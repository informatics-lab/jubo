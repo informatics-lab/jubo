{
 "cells": [
  {
   "cell_type": "code",
   "execution_count": 1,
   "metadata": {},
   "outputs": [],
   "source": [
    "from urllib import request\n",
    "import re\n",
    "import json\n",
    "from urllib.parse import urlencode\n",
    "from IPython.display import HTML\n",
    "base_url = 'https://pangeo.informaticslab.co.uk/user/tam203/'\n",
    "base_url = 'http://localhost:8888/'\n",
    "jubo_url = base_url + 'jubo/'"
   ]
  },
  {
   "cell_type": "code",
   "execution_count": 2,
   "metadata": {},
   "outputs": [
    {
     "data": {
      "text/plain": [
       "['outputs.ipynb',\n",
       " 'JuBo Front End.ipynb',\n",
       " 'MyFirstApp.ipynb',\n",
       " 'Simple.ipynb',\n",
       " 'sub/sub/outputs.ipynb']"
      ]
     },
     "execution_count": 2,
     "metadata": {},
     "output_type": "execute_result"
    }
   ],
   "source": [
    "note_books = request.urlopen(jubo_url + 'list').read()\n",
    "note_books = json.loads(note_books)\n",
    "note_books"
   ]
  },
  {
   "cell_type": "code",
   "execution_count": 3,
   "metadata": {},
   "outputs": [
    {
     "name": "stdout",
     "output_type": "stream",
     "text": [
      "http://localhost:8888/jubo/app/MyFirstApp.ipynb?\n"
     ]
    }
   ],
   "source": [
    "notebook = [nb for nb in note_books if nb.find('MyFirstApp') >= 0][0] \n",
    "url = jubo_url + 'app/' + notebook \n",
    "payload = {}#{'prefix':'/user/tam203/proxy/{port}', 'https':'True', 'origin':'pangeo.com'}\n",
    "url = url + '?' + urlencode(payload)\n",
    "print(url)"
   ]
  },
  {
   "cell_type": "code",
   "execution_count": 4,
   "metadata": {},
   "outputs": [
    {
     "name": "stdout",
     "output_type": "stream",
     "text": [
      "<script\n",
      "            src=\"http://localhost:2466/autoload.js?bokeh-autoload-element=a10bf50a-08b5-4587-8721-692547d180ef&bokeh-absolute-url=http://localhost:2466&bokeh-app-path=/\"\n",
      "            id=\"a10bf50a-08b5-4587-8721-692547d180ef\"\n",
      "            data-bokeh-model-id=\"\"\n",
      "            data-bokeh-doc-id=\"\"\n",
      "        ></script>\n"
     ]
    }
   ],
   "source": [
    "app = json.loads(request.urlopen(url).read())\n",
    "script = app['script']\n",
    "print(script)"
   ]
  },
  {
   "cell_type": "code",
   "execution_count": 5,
   "metadata": {},
   "outputs": [
    {
     "data": {
      "text/html": [
       "<script\n",
       "            src=\"http://localhost:2466/autoload.js?bokeh-autoload-element=a10bf50a-08b5-4587-8721-692547d180ef&bokeh-absolute-url=http://localhost:2466&bokeh-app-path=/\"\n",
       "            id=\"a10bf50a-08b5-4587-8721-692547d180ef\"\n",
       "            data-bokeh-model-id=\"\"\n",
       "            data-bokeh-doc-id=\"\"\n",
       "        ></script>"
      ],
      "text/plain": [
       "<IPython.core.display.HTML object>"
      ]
     },
     "execution_count": 5,
     "metadata": {},
     "output_type": "execute_result"
    }
   ],
   "source": [
    "HTML(script)"
   ]
  },
  {
   "cell_type": "code",
   "execution_count": 6,
   "metadata": {},
   "outputs": [
    {
     "name": "stdout",
     "output_type": "stream",
     "text": [
      "http://localhost:8888/jubo/app/MyFirstApp.ipynb?prefix=%2Fproxy%2F%7Bport%7D&origin=localhost%3A8888\n",
      "<script\n",
      "            src=\"http://localhost:8888/proxy/61647/autoload.js?bokeh-autoload-element=08d3b0de-c9dc-475d-9b37-cb8936f37bec&bokeh-absolute-url=http://localhost:8888&bokeh-app-path=/proxy/61647/\"\n",
      "            id=\"08d3b0de-c9dc-475d-9b37-cb8936f37bec\"\n",
      "            data-bokeh-model-id=\"\"\n",
      "            data-bokeh-doc-id=\"\"\n",
      "        ></script>\n"
     ]
    }
   ],
   "source": [
    "url = jubo_url + 'app/' + notebook \n",
    "payload = {'prefix':'/proxy/{port}','origin':'localhost:8888'}\n",
    "url = url + '?' + urlencode(payload)\n",
    "print(url)\n",
    "app = json.loads(request.urlopen(url).read())\n",
    "script = app['script']\n",
    "print(script)"
   ]
  },
  {
   "cell_type": "code",
   "execution_count": 7,
   "metadata": {
    "scrolled": false
   },
   "outputs": [
    {
     "data": {
      "text/html": [
       "<script\n",
       "            src=\"http://localhost:8888/proxy/61647/autoload.js?bokeh-autoload-element=08d3b0de-c9dc-475d-9b37-cb8936f37bec&bokeh-absolute-url=http://localhost:8888&bokeh-app-path=/proxy/61647/\"\n",
       "            id=\"08d3b0de-c9dc-475d-9b37-cb8936f37bec\"\n",
       "            data-bokeh-model-id=\"\"\n",
       "            data-bokeh-doc-id=\"\"\n",
       "        ></script>"
      ],
      "text/plain": [
       "<IPython.core.display.HTML object>"
      ]
     },
     "execution_count": 7,
     "metadata": {},
     "output_type": "execute_result"
    }
   ],
   "source": [
    "HTML(script)"
   ]
  },
  {
   "cell_type": "code",
   "execution_count": null,
   "metadata": {},
   "outputs": [],
   "source": [
    "!curl http://localhost:43888/user/tam203/proxy/43888/autoload.js?bokeh-autoload-element=fa544c1d-8748-40ea-a726-8f1be23d9b23"
   ]
  },
  {
   "cell_type": "code",
   "execution_count": 8,
   "metadata": {},
   "outputs": [],
   "source": [
    "from bokeh.server.server import Server"
   ]
  },
  {
   "cell_type": "code",
   "execution_count": 9,
   "metadata": {},
   "outputs": [],
   "source": [
    "s = Server({})"
   ]
  },
  {
   "cell_type": "code",
   "execution_count": 16,
   "metadata": {},
   "outputs": [],
   "source": [
    "from bokeh.resources import Resources"
   ]
  },
  {
   "cell_type": "code",
   "execution_count": 20,
   "metadata": {},
   "outputs": [
    {
     "data": {
      "text/plain": [
       "[]"
      ]
     },
     "execution_count": 20,
     "metadata": {},
     "output_type": "execute_result"
    }
   ],
   "source": [
    "r = Resources()\n",
    "r.js_files"
   ]
  },
  {
   "cell_type": "code",
   "execution_count": null,
   "metadata": {},
   "outputs": [],
   "source": []
  }
 ],
 "metadata": {
  "kernelspec": {
   "display_name": "Python 3",
   "language": "python",
   "name": "python3"
  },
  "language_info": {
   "codemirror_mode": {
    "name": "ipython",
    "version": 3
   },
   "file_extension": ".py",
   "mimetype": "text/x-python",
   "name": "python",
   "nbconvert_exporter": "python",
   "pygments_lexer": "ipython3",
   "version": "3.6.4"
  }
 },
 "nbformat": 4,
 "nbformat_minor": 2
}
